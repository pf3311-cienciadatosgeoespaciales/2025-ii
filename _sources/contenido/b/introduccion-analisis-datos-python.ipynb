{
 "cells": [
  {
   "cell_type": "markdown",
   "id": "314c20ed",
   "metadata": {},
   "source": [
    "# Introducción al análisis de datos con Python"
   ]
  },
  {
   "cell_type": "markdown",
   "id": "8e77e638",
   "metadata": {},
   "source": [
    "En esta lección, se introducen algunas de las capacidades de Python para el análisis de datos, las cuales son ampliamente utilizadas en áreas como [aprendizaje automatizado](https://es.wikipedia.org/wiki/Aprendizaje_autom%C3%A1tico) y [ciencia de datos](https://es.wikipedia.org/wiki/Ciencia_de_datos), entre otros."
   ]
  },
  {
   "cell_type": "markdown",
   "id": "42d13fd4",
   "metadata": {},
   "source": [
    "## Análisis de datos del Titanic"
   ]
  },
  {
   "cell_type": "markdown",
   "id": "4d7d338c",
   "metadata": {},
   "source": [
    "Esta sección está basada en la competencia [Titanic - Machine Learning from Disaster](https://www.kaggle.com/c/titanic/overview) organizada por [Kaggle](https://www.kaggle.com/)."
   ]
  },
  {
   "cell_type": "markdown",
   "id": "13e68070",
   "metadata": {},
   "source": [
    "### Sobre el Titanic\n",
    "\n",
    "El [RMS Titanic](https://es.wikipedia.org/wiki/RMS_Titanic) ({numref}`figure-titanic`) fue un transatlántico británico que se hundió en 1912 durante su viaje inaugural entre Southampton y Nueva York. **Fallecieron más de 1500 personas de las 2224 que viajaban en el barco**.\n",
    "\n",
    "El naufragio del Titanic conmocionó e indignó al mundo entero por el elevado número de víctimas mortales y por los errores cometidos en el accidente. Solamente portaba botes salvavidas para 1178 pasajeros, poco más de la mitad de los que iban a bordo en su viaje inaugural y un tercio de su capacidad total de 3547 personas. \n",
    "\n",
    "El Titanic es quizá el barco más famoso de la historia y su memoria se mantiene muy viva gracias a numerosos libros, canciones, películas, exposiciones y memoriales."
   ]
  },
  {
   "cell_type": "markdown",
   "id": "72543451",
   "metadata": {},
   "source": [
    "```{figure} img/titanic.jpg\n",
    ":name: figure-titanic\n",
    "\n",
    "El RMS Titanic al salir de Southampton el 10 de abril de 1912. Fotografía de [Francis Godolphin Osbourne Stuart](https://en.wikipedia.org/wiki/Francis_Godolphin_Osbourne_Stuart) compartida a través de [Wikimedia Commons](https://commons.wikimedia.org/wiki/File:RMS_Titanic_3.jpg).\n",
    "```"
   ]
  },
  {
   "cell_type": "markdown",
   "id": "c55dd093",
   "metadata": {},
   "source": [
    "La competencia [Titanic - Machine Learning from Disaster](https://www.kaggle.com/c/titanic/overview) es organizada regularmente por Kaggle. Su objetivo es predecir cuales pasajeros sobrevivieron y cuales no sobrevivieron al hundimiento del Titanic."
   ]
  },
  {
   "cell_type": "markdown",
   "id": "96a78228",
   "metadata": {},
   "source": [
    "### Visualización y exploración de datos"
   ]
  },
  {
   "cell_type": "markdown",
   "id": "10353fce",
   "metadata": {},
   "source": [
    "Para construir un modelo de sobrevivencia de los pasajeros del Titanic, se proporcionan dos archivos [CSV (valores separados por comas)](https://es.wikipedia.org/wiki/Valores_separados_por_comas):\n",
    "\n",
    "- [entrenamiento.csv](https://github.com/pf3311-cienciadatosgeoespaciales/2021-iii/blob/main/contenido/b/datos/entrenamiento.csv): contiene datos detallados sobre un subconjunto de pasajeros (891 registros), incluyendo una columna que indica si cada uno sobrevivió o no al naufragio. Este conjunto de datos se utiliza para generar el modelo.\n",
    "- [evaluacion.csv](https://github.com/pf3311-cienciadatosgeoespaciales/2021-iii/blob/main/contenido/b/datos/evaluacion.csv): contiene otro subconjunto (418 registros) con las mismas columnas del conjunto de datos de entrenamiento, excepto la que indica si el pasajero sobrevivió al naufragio. Este conjunto se utiliza para evaluar el modelo generado con los datos de entrenamiento."
   ]
  },
  {
   "cell_type": "markdown",
   "id": "2352666f",
   "metadata": {},
   "source": [
    "Para analizar los datos, se utilizará el paquete [pandas](https://pandas.pydata.org/) de Python."
   ]
  },
  {
   "cell_type": "code",
   "execution_count": 1,
   "id": "c9c72708",
   "metadata": {},
   "outputs": [],
   "source": [
    "import pandas as pd"
   ]
  },
  {
   "cell_type": "markdown",
   "id": "2a56b2ac",
   "metadata": {},
   "source": [
    "#### Carga de datos"
   ]
  },
  {
   "cell_type": "markdown",
   "id": "ab3bff69",
   "metadata": {},
   "source": [
    "La función [read_csv()](https://pandas.pydata.org/pandas-docs/stable/reference/api/pandas.read_csv.html) carga en un [DataFrame](https://pandas.pydata.org/docs/reference/api/pandas.DataFrame.html) el contenido de un archivo CSV."
   ]
  },
  {
   "cell_type": "code",
   "execution_count": 2,
   "id": "a3066f3d",
   "metadata": {},
   "outputs": [],
   "source": [
    "# Carga de los datos de entrenamiento en un data frame de pandas\n",
    "\n",
    "datos_entrenamiento = pd.read_csv(\"https://raw.githubusercontent.com/pf3311-cienciadatosgeoespaciales/2021-iii/main/contenido/b/datos/entrenamiento.csv\")"
   ]
  },
  {
   "cell_type": "markdown",
   "id": "4442f357",
   "metadata": {},
   "source": [
    "#### Despliegue de datos tabulares"
   ]
  },
  {
   "cell_type": "markdown",
   "id": "2cbf8814",
   "metadata": {},
   "source": [
    "La función [head()](https://pandas.pydata.org/pandas-docs/stable/reference/api/pandas.DataFrame.head.html) retorna las primeras filas de un DataFrame."
   ]
  },
  {
   "cell_type": "code",
   "execution_count": 3,
   "id": "7975a80e",
   "metadata": {},
   "outputs": [
    {
     "data": {
      "text/html": [
       "<div>\n",
       "<style scoped>\n",
       "    .dataframe tbody tr th:only-of-type {\n",
       "        vertical-align: middle;\n",
       "    }\n",
       "\n",
       "    .dataframe tbody tr th {\n",
       "        vertical-align: top;\n",
       "    }\n",
       "\n",
       "    .dataframe thead th {\n",
       "        text-align: right;\n",
       "    }\n",
       "</style>\n",
       "<table border=\"1\" class=\"dataframe\">\n",
       "  <thead>\n",
       "    <tr style=\"text-align: right;\">\n",
       "      <th></th>\n",
       "      <th>PassengerId</th>\n",
       "      <th>Survived</th>\n",
       "      <th>Pclass</th>\n",
       "      <th>Name</th>\n",
       "      <th>Sex</th>\n",
       "      <th>Age</th>\n",
       "      <th>SibSp</th>\n",
       "      <th>Parch</th>\n",
       "      <th>Ticket</th>\n",
       "      <th>Fare</th>\n",
       "      <th>Cabin</th>\n",
       "      <th>Embarked</th>\n",
       "    </tr>\n",
       "  </thead>\n",
       "  <tbody>\n",
       "    <tr>\n",
       "      <th>0</th>\n",
       "      <td>1</td>\n",
       "      <td>0</td>\n",
       "      <td>3</td>\n",
       "      <td>Braund, Mr. Owen Harris</td>\n",
       "      <td>male</td>\n",
       "      <td>22.0</td>\n",
       "      <td>1</td>\n",
       "      <td>0</td>\n",
       "      <td>A/5 21171</td>\n",
       "      <td>7.2500</td>\n",
       "      <td>NaN</td>\n",
       "      <td>S</td>\n",
       "    </tr>\n",
       "    <tr>\n",
       "      <th>1</th>\n",
       "      <td>2</td>\n",
       "      <td>1</td>\n",
       "      <td>1</td>\n",
       "      <td>Cumings, Mrs. John Bradley (Florence Briggs Th...</td>\n",
       "      <td>female</td>\n",
       "      <td>38.0</td>\n",
       "      <td>1</td>\n",
       "      <td>0</td>\n",
       "      <td>PC 17599</td>\n",
       "      <td>71.2833</td>\n",
       "      <td>C85</td>\n",
       "      <td>C</td>\n",
       "    </tr>\n",
       "    <tr>\n",
       "      <th>2</th>\n",
       "      <td>3</td>\n",
       "      <td>1</td>\n",
       "      <td>3</td>\n",
       "      <td>Heikkinen, Miss. Laina</td>\n",
       "      <td>female</td>\n",
       "      <td>26.0</td>\n",
       "      <td>0</td>\n",
       "      <td>0</td>\n",
       "      <td>STON/O2. 3101282</td>\n",
       "      <td>7.9250</td>\n",
       "      <td>NaN</td>\n",
       "      <td>S</td>\n",
       "    </tr>\n",
       "    <tr>\n",
       "      <th>3</th>\n",
       "      <td>4</td>\n",
       "      <td>1</td>\n",
       "      <td>1</td>\n",
       "      <td>Futrelle, Mrs. Jacques Heath (Lily May Peel)</td>\n",
       "      <td>female</td>\n",
       "      <td>35.0</td>\n",
       "      <td>1</td>\n",
       "      <td>0</td>\n",
       "      <td>113803</td>\n",
       "      <td>53.1000</td>\n",
       "      <td>C123</td>\n",
       "      <td>S</td>\n",
       "    </tr>\n",
       "    <tr>\n",
       "      <th>4</th>\n",
       "      <td>5</td>\n",
       "      <td>0</td>\n",
       "      <td>3</td>\n",
       "      <td>Allen, Mr. William Henry</td>\n",
       "      <td>male</td>\n",
       "      <td>35.0</td>\n",
       "      <td>0</td>\n",
       "      <td>0</td>\n",
       "      <td>373450</td>\n",
       "      <td>8.0500</td>\n",
       "      <td>NaN</td>\n",
       "      <td>S</td>\n",
       "    </tr>\n",
       "  </tbody>\n",
       "</table>\n",
       "</div>"
      ],
      "text/plain": [
       "   PassengerId  Survived  Pclass  \\\n",
       "0            1         0       3   \n",
       "1            2         1       1   \n",
       "2            3         1       3   \n",
       "3            4         1       1   \n",
       "4            5         0       3   \n",
       "\n",
       "                                                Name     Sex   Age  SibSp  \\\n",
       "0                            Braund, Mr. Owen Harris    male  22.0      1   \n",
       "1  Cumings, Mrs. John Bradley (Florence Briggs Th...  female  38.0      1   \n",
       "2                             Heikkinen, Miss. Laina  female  26.0      0   \n",
       "3       Futrelle, Mrs. Jacques Heath (Lily May Peel)  female  35.0      1   \n",
       "4                           Allen, Mr. William Henry    male  35.0      0   \n",
       "\n",
       "   Parch            Ticket     Fare Cabin Embarked  \n",
       "0      0         A/5 21171   7.2500   NaN        S  \n",
       "1      0          PC 17599  71.2833   C85        C  \n",
       "2      0  STON/O2. 3101282   7.9250   NaN        S  \n",
       "3      0            113803  53.1000  C123        S  \n",
       "4      0            373450   8.0500   NaN        S  "
      ]
     },
     "execution_count": 3,
     "metadata": {},
     "output_type": "execute_result"
    }
   ],
   "source": [
    "# Despliegue de las primeras filas\n",
    "\n",
    "datos_entrenamiento.head()"
   ]
  },
  {
   "cell_type": "markdown",
   "id": "67298c06",
   "metadata": {},
   "source": [
    "Las funciones [tail()](https://pandas.pydata.org/docs/reference/api/pandas.DataFrame.tail.html) y [sample()](https://pandas.pydata.org/docs/reference/api/pandas.DataFrame.sample.html) funcionan de manera similar, retornando respectivamente las últimas filas y un conjunto aleatorio de filas de un DataFrame."
   ]
  },
  {
   "cell_type": "markdown",
   "id": "c9e3ebe1",
   "metadata": {},
   "source": [
    "#### Exploración"
   ]
  },
  {
   "cell_type": "markdown",
   "id": "e42e531f",
   "metadata": {},
   "source": [
    "Se determinan las proporciones de sobrevivientes de acuerdo con diversas variables."
   ]
  },
  {
   "cell_type": "markdown",
   "id": "e9c852dc",
   "metadata": {},
   "source": [
    "##### Sexo"
   ]
  },
  {
   "cell_type": "code",
   "execution_count": 4,
   "id": "04a0d260",
   "metadata": {},
   "outputs": [
    {
     "name": "stdout",
     "output_type": "stream",
     "text": [
      "Porcentaje de mujeres que sobrevivieron: 0.74\n"
     ]
    }
   ],
   "source": [
    "# Tasa de sobrevivencia de mujeres\n",
    "\n",
    "mujeres_sobrevivientes = datos_entrenamiento.loc[datos_entrenamiento.Sex == 'female'][\"Survived\"]\n",
    "tasa_sobrevivencia_mujeres = sum(mujeres_sobrevivientes)/len(mujeres_sobrevivientes)\n",
    "\n",
    "print(\"Porcentaje de mujeres que sobrevivieron: {:3.2f}\".format(tasa_sobrevivencia_mujeres))"
   ]
  },
  {
   "cell_type": "code",
   "execution_count": 5,
   "id": "8ae3d251",
   "metadata": {},
   "outputs": [
    {
     "name": "stdout",
     "output_type": "stream",
     "text": [
      "Porcentaje de hombres que sobrevivieron: 0.19\n"
     ]
    }
   ],
   "source": [
    "# Tasa de sobrevivencia de hombres\n",
    "\n",
    "hombres_sobrevivientes = datos_entrenamiento.loc[datos_entrenamiento.Sex == 'male'][\"Survived\"]\n",
    "tasa_sobrevivencia_hombres = sum(hombres_sobrevivientes)/len(hombres_sobrevivientes)\n",
    "\n",
    "print(\"Porcentaje de hombres que sobrevivieron: {:3.2f}\".format(tasa_sobrevivencia_hombres))"
   ]
  },
  {
   "cell_type": "markdown",
   "id": "c0ad5623",
   "metadata": {},
   "source": [
    "##### Edad"
   ]
  },
  {
   "cell_type": "code",
   "execution_count": 6,
   "id": "15cd39ac",
   "metadata": {},
   "outputs": [
    {
     "name": "stdout",
     "output_type": "stream",
     "text": [
      "Porcentaje de menores de edad que sobrevivieron: 0.54\n"
     ]
    }
   ],
   "source": [
    "# Tasa de sobrevivencia de menores\n",
    "\n",
    "sobrevivientes_menores = datos_entrenamiento.loc[datos_entrenamiento.Age < 18][\"Survived\"]\n",
    "tasa_sobrevivencia_menores = sum(sobrevivientes_menores)/len(sobrevivientes_menores)\n",
    "\n",
    "print(\"Porcentaje de menores de edad que sobrevivieron: {:3.2f}\".format(tasa_sobrevivencia_menores))"
   ]
  },
  {
   "cell_type": "code",
   "execution_count": 7,
   "id": "aa18a587",
   "metadata": {},
   "outputs": [
    {
     "name": "stdout",
     "output_type": "stream",
     "text": [
      "Porcentaje de mayores de edad que sobrevivieron: 0.38\n"
     ]
    }
   ],
   "source": [
    "# Tasa de sobrevivencia de mayores\n",
    "\n",
    "sobrevivientes_mayores = datos_entrenamiento.loc[datos_entrenamiento.Age >= 18][\"Survived\"]\n",
    "tasa_sobrevivencia_mayores = sum(sobrevivientes_mayores)/len(sobrevivientes_mayores)\n",
    "\n",
    "print(\"Porcentaje de mayores de edad que sobrevivieron: {:3.2f}\".format(tasa_sobrevivencia_mayores))"
   ]
  },
  {
   "cell_type": "markdown",
   "id": "e34044ed",
   "metadata": {},
   "source": [
    "##### Clase"
   ]
  },
  {
   "cell_type": "code",
   "execution_count": 8,
   "id": "458b35d1",
   "metadata": {},
   "outputs": [
    {
     "name": "stdout",
     "output_type": "stream",
     "text": [
      "Porcentaje de pasajeros de primera clase que sobrevivieron: 0.63\n"
     ]
    }
   ],
   "source": [
    "# Tasa de sobrevivencia de pasajeros de primera clase\n",
    "\n",
    "clase1_sobrevivientes = datos_entrenamiento.loc[datos_entrenamiento.Pclass == 1][\"Survived\"]\n",
    "tasa_sobrevivencia_clase1 = sum(clase1_sobrevivientes)/len(clase1_sobrevivientes)\n",
    "\n",
    "print(\"Porcentaje de pasajeros de primera clase que sobrevivieron: {:3.2f}\".format(tasa_sobrevivencia_clase1))"
   ]
  },
  {
   "cell_type": "code",
   "execution_count": 9,
   "id": "a073b3e2",
   "metadata": {},
   "outputs": [
    {
     "name": "stdout",
     "output_type": "stream",
     "text": [
      "Porcentaje de pasajeros de segunda clase que sobrevivieron: 0.47\n"
     ]
    }
   ],
   "source": [
    "# Tasa de sobrevivencia de pasajeros de segunda clase\n",
    "\n",
    "clase2_sobrevivientes = datos_entrenamiento.loc[datos_entrenamiento.Pclass == 2][\"Survived\"]\n",
    "tasa_sobrevivencia_clase2 = sum(clase2_sobrevivientes)/len(clase2_sobrevivientes)\n",
    "\n",
    "print(\"Porcentaje de pasajeros de segunda clase que sobrevivieron: {:3.2f}\".format(tasa_sobrevivencia_clase2))"
   ]
  },
  {
   "cell_type": "code",
   "execution_count": 10,
   "id": "5e27f9c6",
   "metadata": {},
   "outputs": [
    {
     "name": "stdout",
     "output_type": "stream",
     "text": [
      "Porcentaje de pasajeros de tercera clase que sobrevivieron: 0.28\n"
     ]
    }
   ],
   "source": [
    "# Tasa de sobrevivencia de pasajeros de tercera clase\n",
    "\n",
    "clase3_sobrevivientes = datos_entrenamiento.loc[datos_entrenamiento.Pclass == 3][\"Survived\"]\n",
    "tasa_sobrevivencia_clase3 = sum(clase1_sobrevivientes)/len(clase3_sobrevivientes)\n",
    "\n",
    "print(\"Porcentaje de pasajeros de tercera clase que sobrevivieron: {:3.2f}\".format(tasa_sobrevivencia_clase3))"
   ]
  },
  {
   "cell_type": "markdown",
   "id": "d7f6c5b0",
   "metadata": {},
   "source": [
    "#### Graficación"
   ]
  },
  {
   "cell_type": "markdown",
   "id": "c984f651",
   "metadata": {},
   "source": [
    "La función [plot()](https://pandas.pydata.org/docs/reference/api/pandas.DataFrame.plot.html) de Pandas genera gráficos estadísticos a partir de los datos de un DataFrame. Por defecto, utiliza la funcionalidad provista por la biblioteca [matplotlib](https://matplotlib.org/)."
   ]
  },
  {
   "cell_type": "markdown",
   "id": "cb7c0a37",
   "metadata": {},
   "source": [
    "##### Sexo"
   ]
  },
  {
   "cell_type": "code",
   "execution_count": 11,
   "id": "55ba7f34",
   "metadata": {},
   "outputs": [
    {
     "data": {
      "text/plain": [
       "<AxesSubplot:>"
      ]
     },
     "execution_count": 11,
     "metadata": {},
     "output_type": "execute_result"
    },
    {
     "data": {
      "image/png": "[encoded data removed]",
      "text/plain": [
       "<Figure size 432x288 with 1 Axes>"
      ]
     },
     "metadata": {
      "needs_background": "light"
     },
     "output_type": "display_data"
    }
   ],
   "source": [
    "# Gráfico de barras de cantidades de sobrevivientes y fallecidos por sexo\n",
    "\n",
    "sobrevivientes = datos_entrenamiento[datos_entrenamiento['Survived']==1]['Sex'].value_counts()\n",
    "fallecidos = datos_entrenamiento[datos_entrenamiento['Survived']==0]['Sex'].value_counts()\n",
    "\n",
    "df = pd.DataFrame([sobrevivientes, fallecidos])\n",
    "df.index = ['Survived', 'Dead']\n",
    "df.plot(kind='bar', stacked='True')"
   ]
  },
  {
   "cell_type": "markdown",
   "id": "614a8af1",
   "metadata": {},
   "source": [
    "##### Edad"
   ]
  },
  {
   "cell_type": "code",
   "execution_count": 12,
   "id": "f44cf373",
   "metadata": {},
   "outputs": [
    {
     "data": {
      "text/plain": [
       "<AxesSubplot:>"
      ]
     },
     "execution_count": 12,
     "metadata": {},
     "output_type": "execute_result"
    },
    {
     "data": {
      "image/png": "[encoded data removed]",
      "text/plain": [
       "<Figure size 432x288 with 1 Axes>"
      ]
     },
     "metadata": {
      "needs_background": "light"
     },
     "output_type": "display_data"
    }
   ],
   "source": [
    "# Diagrama de caja (boxplot) de la variable edad (Age)\n",
    "\n",
    "datos_entrenamiento.boxplot(column=\"Age\")"
   ]
  },
  {
   "cell_type": "code",
   "execution_count": 13,
   "id": "3d1c5def",
   "metadata": {},
   "outputs": [
    {
     "data": {
      "text/plain": [
       "<AxesSubplot:title={'center':'Age'}, xlabel='Survived'>"
      ]
     },
     "execution_count": 13,
     "metadata": {},
     "output_type": "execute_result"
    },
    {
     "data": {
      "image/png": "[encoded data removed]",
      "text/plain": [
       "<Figure size 432x288 with 1 Axes>"
      ]
     },
     "metadata": {
      "needs_background": "light"
     },
     "output_type": "display_data"
    }
   ],
   "source": [
    "# Diagrama de caja de la variable edad y agrupado por la variable de sobrevivencia\n",
    "\n",
    "datos_entrenamiento.boxplot(column=\"Age\", by=\"Survived\")"
   ]
  },
  {
   "cell_type": "markdown",
   "id": "e9e4af31",
   "metadata": {},
   "source": [
    "##### Clase"
   ]
  },
  {
   "cell_type": "code",
   "execution_count": 14,
   "id": "505a1199",
   "metadata": {},
   "outputs": [
    {
     "data": {
      "text/plain": [
       "<AxesSubplot:>"
      ]
     },
     "execution_count": 14,
     "metadata": {},
     "output_type": "execute_result"
    },
    {
     "data": {
      "image/png": "[encoded data removed]",
      "text/plain": [
       "<Figure size 432x288 with 1 Axes>"
      ]
     },
     "metadata": {
      "needs_background": "light"
     },
     "output_type": "display_data"
    }
   ],
   "source": [
    "# Gráfico de barras de cantidades de sobrevivientes y fallecidos por clase de pasajero\n",
    "\n",
    "sobrevivientes = datos_entrenamiento[datos_entrenamiento['Survived']==1]['Pclass'].value_counts()\n",
    "fallecidos = datos_entrenamiento[datos_entrenamiento['Survived']==0]['Pclass'].value_counts()\n",
    "\n",
    "df = pd.DataFrame([sobrevivientes, fallecidos])\n",
    "df.index = ['Survived', 'Dead']\n",
    "df.plot(kind='bar', stacked='True')"
   ]
  },
  {
   "cell_type": "markdown",
   "id": "3796e9d5",
   "metadata": {},
   "source": [
    "### Modelado"
   ]
  },
  {
   "cell_type": "markdown",
   "id": "373aa452",
   "metadata": {},
   "source": [
    "Seguidamente, se generará un modelo basado en [Random Forest](https://es.wikipedia.org/wiki/Random_forest). Este algoritmo de aprendizaje automatizado construye múltiples árboles de decisión, como se ejemplifica en la {numref}`figure-random-forest`."
   ]
  },
  {
   "cell_type": "markdown",
   "id": "08b7d526",
   "metadata": {},
   "source": [
    "```{figure} img/randomforest.png\n",
    ":name: figure-random-forest\n",
    "\n",
    "Representación gráfica del algoritmo Random Forest. Fuente [Kaggle](https://www.kaggle.com/alexisbcook/titanic-tutorial).\n",
    "```"
   ]
  },
  {
   "cell_type": "markdown",
   "id": "806ffa0a",
   "metadata": {},
   "source": [
    "Cada registro de datos es evaluado en los árboles de decisión y el resultado más frecuente (i.e. sobreviviente o fallecido) pasa a ser la salida para ese registro."
   ]
  },
  {
   "cell_type": "markdown",
   "id": "4ba4cf73",
   "metadata": {},
   "source": [
    "En el siguiente bloque de código en Python, se construyen 100 árboles de decisión para generar un modelo para los datos de los pasajeros del Titanic, el cual predice si cada pasajero sobrevivió o no."
   ]
  },
  {
   "cell_type": "code",
   "execution_count": 15,
   "id": "6ed8443d",
   "metadata": {},
   "outputs": [
    {
     "name": "stdout",
     "output_type": "stream",
     "text": [
      "La salida del modelo se almacenó en el archivo datos/salida-random-forest.csv\n"
     ]
    }
   ],
   "source": [
    "# Modelo generado con Radom Forest\n",
    "\n",
    "from sklearn.ensemble import RandomForestClassifier\n",
    "\n",
    "# Carga de los datos de entrenamiento en un data frame de pandas\n",
    "datos_evaluacion = pd.read_csv(\"https://raw.githubusercontent.com/curso-python-imn/curso-python-imn.github.io/main/datos/titanic/evaluacion.csv\")\n",
    "\n",
    "y = datos_entrenamiento[\"Survived\"]\n",
    "\n",
    "features = [\"Pclass\", \"Sex\", \"SibSp\", \"Parch\"]\n",
    "X = pd.get_dummies(datos_entrenamiento[features])\n",
    "X_test = pd.get_dummies(datos_evaluacion[features])\n",
    "\n",
    "model = RandomForestClassifier(n_estimators=100, max_depth=5, random_state=1)\n",
    "model.fit(X, y)\n",
    "predictions = model.predict(X_test)\n",
    "\n",
    "output = pd.DataFrame({'PassengerId': datos_evaluacion.PassengerId, 'Survived': predictions})\n",
    "output.to_csv('datos/salida-random-forest.csv', index=False)\n",
    "print(\"La salida del modelo se almacenó en el archivo datos/salida-random-forest.csv\")"
   ]
  },
  {
   "cell_type": "code",
   "execution_count": null,
   "id": "e8100147",
   "metadata": {},
   "outputs": [],
   "source": []
  }
 ],
 "metadata": {
  "kernelspec": {
   "display_name": "Python 3 (ipykernel)",
   "language": "python",
   "name": "python3"
  },
  "language_info": {
   "codemirror_mode": {
    "name": "ipython",
    "version": 3
   },
   "file_extension": ".py",
   "mimetype": "text/x-python",
   "name": "python",
   "nbconvert_exporter": "python",
   "pygments_lexer": "ipython3",
   "version": "3.10.1"
  }
 },
 "nbformat": 4,
 "nbformat_minor": 5
}
