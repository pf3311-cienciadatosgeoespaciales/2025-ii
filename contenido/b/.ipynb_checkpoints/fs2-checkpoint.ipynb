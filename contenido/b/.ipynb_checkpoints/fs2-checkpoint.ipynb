{
 "cells": [
  {
   "cell_type": "markdown",
   "id": "6be09609",
   "metadata": {},
   "source": [
    "# Fiona y Shapely: paquetes para lectura, escritura y análisis de datos vectoriales"
   ]
  },
  {
   "cell_type": "markdown",
   "id": "1aa3f92e",
   "metadata": {},
   "source": [
    "## Descripción general"
   ]
  },
  {
   "cell_type": "markdown",
   "id": "11152143",
   "metadata": {},
   "source": [
    "### Fiona"
   ]
  },
  {
   "cell_type": "markdown",
   "id": "b857763f",
   "metadata": {},
   "source": [
    "[Fiona](https://github.com/Toblerity/Fiona) es una biblioteca en Python para la lectura y escritura de datos geoespaciales. Su código está enlazado con [GDAL](https://gdal.org/), desarrollada en C/C++.\n",
    "\n",
    "A diferencia de otras bibliotecas basadas en GDAL (ej. [osgeo.gdal/osgeo.ogr](https://gdal.org/python/), con ejemplos en [Python GDAL/OGR Cookbook](https://pcjericks.github.io/py-gdalogr-cookbook/)), Fiona está diseñada para seguir el estilo estándar de entrada-salida (IO) de Python, mediante protocolos y tipos de datos típicos de Python, tales como archivos, diccionarios, mapeos e iteradores, en lugar de clases específicas de la implementación C/C++ de GDAL.\n",
    "\n",
    "Fiona está hecha para ser \"simple y confiable\". Está integrada con otras bibliotecas geoespaciales de Python como [pyproj](https://github.com/pyproj4/pyproj), [Rtree](https://github.com/Toblerity/rtree) y [Shapely](https://github.com/shapely/shapely)."
   ]
  },
  {
   "cell_type": "markdown",
   "id": "1443ec7d",
   "metadata": {},
   "source": [
    "### Shapely"
   ]
  },
  {
   "cell_type": "markdown",
   "id": "53334e8d",
   "metadata": {},
   "source": [
    "[Shapely](https://github.com/shapely/shapely) es una biblioteca en Python para la manipulación y análisis de objetos geométricos planos. Está basada en la biblioteca [GEOS](https://libgeos.org/), programada en C/C++.\n",
    "\n",
    "Shapely no se ocupa de formatos de datos o sistemas de coordenadas, pero puede integrarse con bibliotecas que lo hacen (ej. [Fiona](https://github.com/Toblerity/Fiona), [pyproj](https://github.com/pyproj4/pyproj))."
   ]
  },
  {
   "cell_type": "markdown",
   "id": "9c00581e",
   "metadata": {},
   "source": [
    "Tanto Fiona como Shapely son utilizadas por la biblioteca [geopandas](https://geopandas.org/), para el análisis avanzado de datos geoespaciales."
   ]
  },
  {
   "cell_type": "markdown",
   "id": "121002ee",
   "metadata": {},
   "source": [
    "## Ejemplos de uso"
   ]
  },
  {
   "cell_type": "markdown",
   "id": "16ed72fc",
   "metadata": {},
   "source": [
    "### Análisis de distribución de especies de murciélagos en Costa Rica"
   ]
  },
  {
   "cell_type": "markdown",
   "id": "b00e6965",
   "metadata": {},
   "source": [
    "Se analiza la distribución de especies de [murciélagos](https://es.wikipedia.org/wiki/Chiroptera) en Costa Rica con base en varias divisiones del territorio. Se utilizan las siguientes fuentes de datos:\n",
    "\n",
    "- Registros de presencia de murciélagos, agrupados por la [Infraestructura Mundial de Información en Biodiversidad (GBIF)](https://api.gbif.org/v1/occurrence/download/request/0105729-210914110416597.zip).\n",
    "- Capas geoespaciales de Costa Rica agrupadas por el [Sistema Nacional de Información Territorial (SNIT)](https://www.snitcr.go.cr/).\n",
    "\n",
    "Los pasos del procedimiento a seguir son:\n",
    "\n",
    "1. Obtención de datos.\n",
    "2. Creación de un archivo GeoPackage con todas las capas.\n",
    "3. Conteo de especies en cada polígono de las capas."
   ]
  },
  {
   "cell_type": "markdown",
   "id": "9c5f7386",
   "metadata": {},
   "source": [
    "#### Bibliotecas"
   ]
  },
  {
   "cell_type": "code",
   "execution_count": null,
   "id": "0a3b885d",
   "metadata": {},
   "outputs": [],
   "source": [
    "import os\n",
    "import requests\n",
    "import zipfile\n",
    "\n",
    "import csv\n",
    "\n",
    "import fiona\n",
    "import fiona.crs\n",
    "from shapely.geometry import Point, mapping, shape\n",
    "\n",
    "from owslib.wfs import WebFeatureService\n",
    "from geojson import dump"
   ]
  },
  {
   "cell_type": "markdown",
   "id": "97e3939c",
   "metadata": {},
   "source": [
    "#### 1. Obtención de datos"
   ]
  },
  {
   "cell_type": "markdown",
   "id": "c87c3e46",
   "metadata": {},
   "source": [
    "##### Registros de presencia de murciélagos"
   ]
  },
  {
   "cell_type": "markdown",
   "id": "f4da15cf",
   "metadata": {},
   "source": [
    "Se descargan en un archivo CSV desde una consulta al portal de GBIF."
   ]
  },
  {
   "cell_type": "code",
   "execution_count": null,
   "id": "4e6ebe59",
   "metadata": {},
   "outputs": [],
   "source": [
    "# Descarga de archivo CSV comprimido en ZIP mediante solicitud tipo GET\n",
    "\n",
    "response = requests.get('https://api.gbif.org/v1/occurrence/download/request/0105729-210914110416597.zip', \n",
    "                        allow_redirects=True)\n",
    "open('datos/murcielagos.zip', 'wb').write(response.content)"
   ]
  },
  {
   "cell_type": "code",
   "execution_count": null,
   "id": "0f79d89e",
   "metadata": {},
   "outputs": [],
   "source": [
    "# Descompresión\n",
    "\n",
    "with zipfile.ZipFile(\"datos/murcielagos.zip\") as zipfile:\n",
    "    zipfile.extractall(\"datos/\")"
   ]
  },
  {
   "cell_type": "code",
   "execution_count": null,
   "id": "b066085c",
   "metadata": {},
   "outputs": [],
   "source": [
    "# Cambio de nombre del archivo CSV\n",
    "\n",
    "os.rename(\"datos/0105729-210914110416597.csv\", \"datos/murcielagos.csv\")"
   ]
  },
  {
   "cell_type": "markdown",
   "id": "1f3aa265",
   "metadata": {},
   "source": [
    "##### Capas geoespaciales de Costa Rica"
   ]
  },
  {
   "cell_type": "markdown",
   "id": "0060f445",
   "metadata": {},
   "source": [
    "Se descargan como archivos GeoJON desde servicios WFS."
   ]
  },
  {
   "cell_type": "markdown",
   "id": "2567c475",
   "metadata": {},
   "source": [
    "###### Áreas silvestres protegidas (ASP)"
   ]
  },
  {
   "cell_type": "markdown",
   "id": "e52c4d47",
   "metadata": {},
   "source": [
    "Lista de capas del servidor WFS del Sinac:"
   ]
  },
  {
   "cell_type": "code",
   "execution_count": null,
   "id": "54bf502f",
   "metadata": {},
   "outputs": [],
   "source": [
    "# Clase WebFeatureService de owslib.wfs\n",
    "\n",
    "wfs = WebFeatureService(url='http://geos1pne.sirefor.go.cr/wfs', version='1.1.0')\n",
    "list(wfs.contents)"
   ]
  },
  {
   "cell_type": "markdown",
   "id": "1d62bbcd",
   "metadata": {},
   "source": [
    "Otras propiedades del objeto WebFeatureService:"
   ]
  },
  {
   "cell_type": "code",
   "execution_count": null,
   "id": "a690677b",
   "metadata": {},
   "outputs": [],
   "source": [
    "# Título\n",
    "wfs.identification.title"
   ]
  },
  {
   "cell_type": "code",
   "execution_count": null,
   "id": "0d63bccc",
   "metadata": {},
   "outputs": [],
   "source": [
    "# Operaciones\n",
    "[operation.name for operation in wfs.operations]"
   ]
  },
  {
   "cell_type": "markdown",
   "id": "f726fbfd",
   "metadata": {},
   "source": [
    "Las operaciones y sus parámetros están documentados en [http://opengeospatial.github.io/e-learning/wfs/text/operations.html](http://opengeospatial.github.io/e-learning/wfs/text/operations.html)."
   ]
  },
  {
   "cell_type": "markdown",
   "id": "964c0995",
   "metadata": {},
   "source": [
    "Operación [GetCapabilities](http://opengeospatial.github.io/e-learning/wfs/text/operations.html#getcapabilities):"
   ]
  },
  {
   "cell_type": "code",
   "execution_count": null,
   "id": "aed8b5e5",
   "metadata": {},
   "outputs": [],
   "source": [
    "# Solicitud de metadatos del servicio\n",
    "\n",
    "# Parámetros de la solicitud\n",
    "params = dict(service='WFS', version='1.1.0', request='GetCapabilities')\n",
    "\n",
    "# Solicitud\n",
    "response = requests.get(\"http://geos1pne.sirefor.go.cr/wfs\", params=params)\n",
    "\n",
    "# Despliegue del contenido de la respuesta\n",
    "response.content"
   ]
  },
  {
   "cell_type": "markdown",
   "id": "029f6639",
   "metadata": {},
   "source": [
    "Puede ver el XML de manera estructurada en [https://jsonformatter.org/xml-parser](https://jsonformatter.org/xml-parser)"
   ]
  },
  {
   "cell_type": "markdown",
   "id": "f9bba2b5",
   "metadata": {},
   "source": [
    "Operación [GetFeature](http://opengeospatial.github.io/e-learning/wfs/text/operations.html#getfeature):"
   ]
  },
  {
   "cell_type": "code",
   "execution_count": null,
   "id": "145cac15",
   "metadata": {},
   "outputs": [],
   "source": [
    "# Solicitud de capa WFS de ASP mediante GET, para retornarse como JSON\n",
    "\n",
    "# Parámetros de la solicitud\n",
    "params = dict(service='WFS',\n",
    "              version='1.1.0', \n",
    "              request='GetFeature', \n",
    "              typeName='PNE:areas_silvestres_protegidas',\n",
    "              srsName='urn:ogc:def:crs:EPSG::4326',\n",
    "              outputFormat='json')\n",
    "\n",
    "# Solicitud\n",
    "response = requests.get(\"http://geos1pne.sirefor.go.cr/wfs\", params=params)"
   ]
  },
  {
   "cell_type": "code",
   "execution_count": null,
   "id": "a59f00c2",
   "metadata": {},
   "outputs": [],
   "source": [
    "# Descarga de la respuesta en un archivo GeoJSON\n",
    "\n",
    "with open('datos/asp.geojson', 'w') as file:\n",
    "   dump(response.json(), file)"
   ]
  },
  {
   "cell_type": "markdown",
   "id": "06ba77e2",
   "metadata": {},
   "source": [
    "#### 2. Creación de un archivo GeoPackage con todas las capas"
   ]
  },
  {
   "cell_type": "markdown",
   "id": "0a7ad8f0",
   "metadata": {},
   "source": [
    "El archivo Geopackage se crea con el objetivo de mantener todas las capas en una misma estructura y así facilitar la manipulación de los datos."
   ]
  },
  {
   "cell_type": "markdown",
   "id": "f1893f6d",
   "metadata": {},
   "source": [
    "##### Registros de presencia de murciélagos"
   ]
  },
  {
   "cell_type": "code",
   "execution_count": null,
   "id": "122b181a",
   "metadata": {},
   "outputs": [],
   "source": [
    "# Esquema de la nueva capa de registros de presencia de murciélagos\n",
    "# Se incluyen solo los campos más importantes para el análisis\n",
    "schema = {'geometry':'Point',\n",
    "          'properties':{'gbifID':'str',\n",
    "                        'species':'str',\n",
    "                        'decimalLatitude':'float',\n",
    "                        'decimalLongitude':'float'\n",
    "                       }}\n",
    "\n",
    "# Inserción de registros en el archivo GeoPackage\n",
    "with fiona.collection('datos/distribucion-murcielagos.gpkg', \n",
    "                mode='w',\n",
    "                schema=schema,\n",
    "                driver='GPKG',\n",
    "                crs=fiona.crs.from_epsg(4326),\n",
    "                layer='registros-murcielagos') as collection:\n",
    "    with open('datos/murcielagos.csv') as file:\n",
    "        reader = csv.DictReader(file, delimiter='\\t')\n",
    "        for row in reader:\n",
    "            point = Point(float(row['decimalLongitude']), float(row['decimalLatitude']))\n",
    "            collection.write({\n",
    "                'properties': {\n",
    "                    'gbifID':row['gbifID'],\n",
    "                    'species':row['species'],\n",
    "                    'decimalLatitude':row['decimalLatitude'],\n",
    "                    'decimalLongitude':row['decimalLongitude']\n",
    "                },\n",
    "                'geometry':mapping(point)\n",
    "            })                        "
   ]
  },
  {
   "cell_type": "markdown",
   "id": "c7c75fb7",
   "metadata": {},
   "source": [
    "##### Áreas Silvestres Protegidas (ASP)"
   ]
  },
  {
   "cell_type": "code",
   "execution_count": null,
   "id": "0f84f978",
   "metadata": {},
   "outputs": [],
   "source": [
    "# Se agrega el archivo GeoJSON de ASP al GPKG\n",
    "\n",
    "with fiona.open('datos/asp.geojson') as source:\n",
    "    with fiona.open('datos/distribucion-murcielagos.gpkg', 'w', 'GPKG', source.schema, source.crs, layer='asp') as sink:\n",
    "        for record in source:\n",
    "            sink.write(record)"
   ]
  },
  {
   "cell_type": "markdown",
   "id": "2814320e",
   "metadata": {},
   "source": [
    "#### 3. Conteo de especies en cada polígono de las capas"
   ]
  },
  {
   "cell_type": "markdown",
   "id": "1fba8307",
   "metadata": {},
   "source": [
    "##### En ÁSP"
   ]
  },
  {
   "cell_type": "code",
   "execution_count": null,
   "id": "d285f847",
   "metadata": {},
   "outputs": [],
   "source": [
    "# Conteo de especies en ASP\n",
    "\n",
    "# Esquema de la capa con el total y la lista de especies por ASP\n",
    "schema = {'geometry':'Unknown',\n",
    "          'properties':{'id':'str',\n",
    "                        'nombre_asp':'str',\n",
    "                        'cantidad_especies':'int',\n",
    "                        'lista_especies':'str'\n",
    "                       }}\n",
    "\n",
    "with fiona.collection('datos/distribucion-murcielagos.gpkg', 'r', layer='asp') as asp:\n",
    "    \n",
    "    i = 1 # contador de ASP, para imprimir el progreso del procedimiento\n",
    "    \n",
    "    with fiona.open('datos/asp-especies-mircielagos.geojson','w','GeoJSON', schema, asp.crs) as sink:\n",
    "    \n",
    "        for record_asp in asp:\n",
    "            print(i, record_asp['properties']['siglas_cat'], record_asp['properties']['nombre_asp'])\n",
    "\n",
    "            species_set = set() # conjunto de especies en el ASP\n",
    "\n",
    "            with fiona.collection('datos/distribucion-murcielagos.gpkg', 'r', layer='registros-murcielagos') as registros:\n",
    "                for registro in registros:\n",
    "                    if (registro['properties']['species'] == ''):\n",
    "                        continue\n",
    "                    \n",
    "                    if shape(record_asp['geometry']).contains(shape(registro['geometry'])):\n",
    "                        species_set.add(registro['properties']['species'])\n",
    "\n",
    "            print(len(species_set))\n",
    "            print(', '.join(species_set))\n",
    "            print('\\n')\n",
    "\n",
    "            i += 1\n",
    "                \n",
    "            sink.write({\n",
    "                'properties': {\n",
    "                    'id':record_asp['properties']['id'],\n",
    "                    'nombre_asp':record_asp['properties']['nombre_asp'],\n",
    "                    'cantidad_especies':len(species_set),\n",
    "                    'lista_especies':', '.join(species_set)\n",
    "                },\n",
    "                'geometry':record_asp['geometry']\n",
    "            }) "
   ]
  },
  {
   "cell_type": "code",
   "execution_count": null,
   "id": "d955fdd0",
   "metadata": {},
   "outputs": [],
   "source": [
    "# Se agrega el archivo GeoJSON de asp-especies al GPKG\n",
    "\n",
    "with fiona.open('datos/asp-especies.geojson') as source:\n",
    "    with fiona.open('datos/distribucion-murcielagos.gpkg', 'w', 'GPKG', source.schema, source.crs, layer='asp-especies') as sink:\n",
    "        for record in source:\n",
    "            sink.write(record)"
   ]
  },
  {
   "cell_type": "code",
   "execution_count": null,
   "id": "52c7ffaa",
   "metadata": {},
   "outputs": [],
   "source": []
  }
 ],
 "metadata": {
  "kernelspec": {
   "display_name": "Python 3 (ipykernel)",
   "language": "python",
   "name": "python3"
  },
  "language_info": {
   "codemirror_mode": {
    "name": "ipython",
    "version": 3
   },
   "file_extension": ".py",
   "mimetype": "text/x-python",
   "name": "python",
   "nbconvert_exporter": "python",
   "pygments_lexer": "ipython3",
   "version": "3.10.1"
  }
 },
 "nbformat": 4,
 "nbformat_minor": 5
}
